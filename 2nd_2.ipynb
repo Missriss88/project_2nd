{
 "cells": [
  {
   "cell_type": "markdown",
   "id": "a9c630e1",
   "metadata": {},
   "source": [
    "여드름 감지 서비스 모델 (PyTorch, EfficientNet-b0기반)"
   ]
  },
  {
   "cell_type": "code",
   "execution_count": 10,
   "id": "855908ad",
   "metadata": {},
   "outputs": [],
   "source": [
    "# 1. 라이브러리 임포트\n",
    "import os\n",
    "from PIL import Image\n",
    "import numpy as np\n",
    "import pandas as pd\n",
    "from glob import glob\n",
    "from sklearn.model_selection import train_test_split\n",
    "from collections import Counter\n",
    "import torch\n",
    "import torch.nn as nn\n",
    "import torch.optim as optim\n",
    "from torch.optim.lr_scheduler import ReduceLROnPlateau\n",
    "from torchvision import datasets, transforms, models\n",
    "from torch.utils.data import DataLoader\n",
    "from tqdm import tqdm\n",
    "import matplotlib.pyplot as plt\n",
    "import seaborn as sns\n",
    "from sklearn.metrics import classification_report, confusion_matrix\n",
    "import shutil"
   ]
  },
  {
   "cell_type": "code",
   "execution_count": 11,
   "id": "3a0d636c",
   "metadata": {},
   "outputs": [
    {
     "name": "stdout",
     "output_type": "stream",
     "text": [
      "Using device: cpu\n"
     ]
    }
   ],
   "source": [
    "# 2. GPU 또는 CPU 설정\n",
    "DEVICE = torch.device('cuda' if torch.cuda.is_available() else 'cpu')\n",
    "print(f\"Using device: {DEVICE}\")"
   ]
  },
  {
   "cell_type": "code",
   "execution_count": 12,
   "id": "311a6f37",
   "metadata": {},
   "outputs": [],
   "source": [
    "# 3. 데이터 경로 설정 (로컬 환경)\n",
    "BASE_DIR = os.path.join(os.getcwd(), \"resized\")\n",
    "IMG_DIR = BASE_DIR\n",
    "CLASS_DIRS = {\n",
    "    \"normal\": os.path.join(BASE_DIR, \"normal\"),\n",
    "    \"mild\": os.path.join(BASE_DIR, \"mild\"),\n",
    "    \"moderate\": os.path.join(BASE_DIR, \"moderate\"),\n",
    "    \"severe\": os.path.join(BASE_DIR, \"severe\"),\n",
    "    \"very_severe\": os.path.join(BASE_DIR, \"very_severe\")\n",
    "}\n",
    "CLASS_ID_MAP = {\"normal\": 0, \"mild\": 1, \"moderate\": 2, \"severe\": 3, \"very_severe\": 4}\n",
    "IMG_EXTS = (\".jpg\", \".jpeg\", \".png\", \".bmp\", \".tif\", \".tiff\", \".webp\")\n",
    "NUM_CLASSES = 5\n",
    "EPOCHS = 20\n",
    "BATCH_SIZE = 8  # ResNet-50용, 메모리 절약"
   ]
  },
  {
   "cell_type": "code",
   "execution_count": 13,
   "id": "ae8bbdbb",
   "metadata": {},
   "outputs": [],
   "source": [
    "# 데이터 분할 폴더\n",
    "train_dir = os.path.join(BASE_DIR, 'train')\n",
    "val_dir = os.path.join(BASE_DIR, 'val')\n",
    "test_dir = os.path.join(BASE_DIR, 'test')\n",
    "os.makedirs(train_dir, exist_ok=True)\n",
    "os.makedirs(val_dir, exist_ok=True)\n",
    "os.makedirs(test_dir, exist_ok=True)"
   ]
  },
  {
   "cell_type": "code",
   "execution_count": 14,
   "id": "96440475",
   "metadata": {},
   "outputs": [
    {
     "name": "stdout",
     "output_type": "stream",
     "text": [
      "[DEBUG] normal files found: 936\n",
      "[DEBUG] mild files found: 359\n",
      "[DEBUG] moderate files found: 95\n",
      "[DEBUG] severe files found: 128\n",
      "[DEBUG] very_severe files found: 90\n",
      "CSV 생성 완료: c:\\Users\\Admin\\work space\\2nd\\resized\\labels_total.csv\n",
      "Label distribution:\n",
      " label_name\n",
      "normal         936\n",
      "mild           359\n",
      "severe         128\n",
      "moderate        95\n",
      "very_severe     90\n",
      "Name: count, dtype: int64\n"
     ]
    }
   ],
   "source": [
    "# 4. 데이터 전처리: CSV 생성\n",
    "def is_image(p):\n",
    "    return os.path.isfile(p) and p.lower().endswith(IMG_EXTS)\n",
    "\n",
    "rows = []\n",
    "for label_name, class_dir in CLASS_DIRS.items():\n",
    "    if os.path.isdir(class_dir):\n",
    "        class_files = [p for p in glob(os.path.join(class_dir, \"**\", \"*\"), recursive=True) if is_image(p)]\n",
    "        print(f\"[DEBUG] {label_name} files found: {len(class_files)}\")\n",
    "        for fp in class_files:\n",
    "            rows.append([fp, label_name, CLASS_ID_MAP[label_name]])\n",
    "    else:\n",
    "        print(f\"[WARN] {label_name} directory not found: {class_dir}\")\n",
    "\n",
    "df = pd.DataFrame(rows, columns=[\"filepath\", \"label_name\", \"label_id\"])\n",
    "out_csv = os.path.join(BASE_DIR, \"labels_total.csv\")\n",
    "df.to_csv(out_csv, index=False)\n",
    "print(f\"CSV 생성 완료: {out_csv}\")\n",
    "print(\"Label distribution:\\n\", df[\"label_name\"].value_counts())"
   ]
  },
  {
   "cell_type": "code",
   "execution_count": 15,
   "id": "1d5c2154",
   "metadata": {},
   "outputs": [
    {
     "name": "stdout",
     "output_type": "stream",
     "text": [
      "Test dataset class distribution:\n",
      " label_name\n",
      "normal         141\n",
      "mild            54\n",
      "severe          19\n",
      "very_severe     14\n",
      "moderate        14\n",
      "Name: count, dtype: int64\n",
      "Train:\n",
      " label_name\n",
      "normal         1000\n",
      "mild            800\n",
      "moderate        800\n",
      "severe          800\n",
      "very_severe     800\n",
      "Name: count, dtype: int64\n",
      "Val:\n",
      " label_name\n",
      "normal         141\n",
      "mild            54\n",
      "severe          19\n",
      "very_severe     14\n",
      "moderate        14\n",
      "Name: count, dtype: int64\n",
      "Test:\n",
      " label_name\n",
      "normal         141\n",
      "mild            54\n",
      "severe          19\n",
      "very_severe     14\n",
      "moderate        14\n",
      "Name: count, dtype: int64\n"
     ]
    }
   ],
   "source": [
    "# 5. 데이터 분할 및 밸런싱\n",
    "train_df, test_df = train_test_split(df, test_size=0.15, stratify=df[\"label_name\"], random_state=42)\n",
    "train_df, val_df = train_test_split(train_df, test_size=0.1765, stratify=train_df[\"label_name\"], random_state=42)\n",
    "print(\"Test dataset class distribution:\\n\", test_df[\"label_name\"].value_counts())\n",
    "\n",
    "targets = {\"normal\": 1000, \"mild\": 800, \"moderate\": 800, \"severe\": 800, \"very_severe\": 800}\n",
    "def make_balanced(df, targets):\n",
    "    rng = np.random.default_rng(42)\n",
    "    outs = []\n",
    "    for lab, n in targets.items():\n",
    "        sub = df[df[\"label_name\"] == lab]\n",
    "        if len(sub) >= n:\n",
    "            outs.append(sub.sample(n=n, random_state=42))\n",
    "        else:\n",
    "            idx = rng.choice(sub.index.to_numpy(), size=n, replace=True)\n",
    "            outs.append(df.loc[idx])\n",
    "    return pd.concat(outs, ignore_index=True).sample(frac=1, random_state=42).reset_index(drop=True)\n",
    "\n",
    "train_bal = make_balanced(train_df, targets)\n",
    "train_bal.to_csv(os.path.join(BASE_DIR, \"split_train.balanced.csv\"), index=False)\n",
    "val_df.to_csv(os.path.join(BASE_DIR, \"split_val.csv\"), index=False)\n",
    "test_df.to_csv(os.path.join(BASE_DIR, \"split_test.csv\"), index=False)\n",
    "print(\"Train:\\n\", train_bal[\"label_name\"].value_counts())\n",
    "print(\"Val:\\n\", val_df[\"label_name\"].value_counts())\n",
    "print(\"Test:\\n\", test_df[\"label_name\"].value_counts())"
   ]
  },
  {
   "cell_type": "code",
   "execution_count": 16,
   "id": "e0cd7db9",
   "metadata": {},
   "outputs": [
    {
     "name": "stdout",
     "output_type": "stream",
     "text": [
      "폴더 구조 생성 완료!\n"
     ]
    }
   ],
   "source": [
    "# 폴더 구조 생성\n",
    "def organize_folders(csv_df, dest_folder):\n",
    "    for _, row in csv_df.iterrows():\n",
    "        label = row['label_name']\n",
    "        src_path = row['filepath']\n",
    "        dest_label_dir = os.path.join(dest_folder, label)\n",
    "        os.makedirs(dest_label_dir, exist_ok=True)\n",
    "        dest_path = os.path.join(dest_label_dir, os.path.basename(src_path))\n",
    "        if os.path.exists(src_path):\n",
    "            shutil.copy(src_path, dest_path)\n",
    "\n",
    "organize_folders(train_bal, train_dir)\n",
    "organize_folders(val_df, val_dir)\n",
    "organize_folders(test_df, test_dir)\n",
    "print(\"폴더 구조 생성 완료!\")"
   ]
  },
  {
   "cell_type": "code",
   "execution_count": 17,
   "id": "d0e8d92e",
   "metadata": {},
   "outputs": [
    {
     "name": "stdout",
     "output_type": "stream",
     "text": [
      "클래스 매핑: {'mild': 0, 'moderate': 1, 'normal': 2, 'severe': 3, 'very_severe': 4}\n"
     ]
    }
   ],
   "source": [
    "# 6. 데이터 로딩: transforms와 DataLoader\n",
    "train_transform = transforms.Compose([\n",
    "    transforms.Resize(224),\n",
    "    transforms.RandomHorizontalFlip(),\n",
    "    transforms.RandomRotation(15),\n",
    "    transforms.ColorJitter(brightness=0.2, contrast=0.2, saturation=0.2, hue=0.1),\n",
    "    transforms.RandomAffine(degrees=0, translate=(0.1, 0.1)),\n",
    "    transforms.ToTensor(),\n",
    "    transforms.Normalize(mean=[0.485, 0.456, 0.406], std=[0.229, 0.224, 0.225])\n",
    "])\n",
    "\n",
    "val_transform = transforms.Compose([\n",
    "    transforms.Resize(224),\n",
    "    transforms.ToTensor(),\n",
    "    transforms.Normalize(mean=[0.485, 0.456, 0.406], std=[0.229, 0.224, 0.225])\n",
    "])\n",
    "\n",
    "train_dataset = datasets.ImageFolder(train_dir, transform=train_transform)\n",
    "val_dataset = datasets.ImageFolder(val_dir, transform=val_transform)\n",
    "test_dataset = datasets.ImageFolder(test_dir, transform=val_transform)\n",
    "\n",
    "train_loader = DataLoader(train_dataset, batch_size=BATCH_SIZE, shuffle=True, num_workers=4)\n",
    "val_loader = DataLoader(val_dataset, batch_size=BATCH_SIZE, shuffle=False, num_workers=4)\n",
    "test_loader = DataLoader(test_dataset, batch_size=BATCH_SIZE, shuffle=False, num_workers=4)\n",
    "print(\"클래스 매핑:\", train_dataset.class_to_idx)"
   ]
  },
  {
   "cell_type": "code",
   "execution_count": 18,
   "id": "e7347e2a",
   "metadata": {},
   "outputs": [
    {
     "name": "stdout",
     "output_type": "stream",
     "text": [
      "EfficientNet-B0 모델 로드 완료! 총 매개변수: 4013953\n"
     ]
    },
    {
     "name": "stderr",
     "output_type": "stream",
     "text": [
      "c:\\Users\\Admin\\miniconda3\\envs\\project\\Lib\\site-packages\\torchvision\\models\\_utils.py:208: UserWarning: The parameter 'pretrained' is deprecated since 0.13 and may be removed in the future, please use 'weights' instead.\n",
      "  warnings.warn(\n",
      "c:\\Users\\Admin\\miniconda3\\envs\\project\\Lib\\site-packages\\torchvision\\models\\_utils.py:223: UserWarning: Arguments other than a weight enum or `None` for 'weights' are deprecated since 0.13 and may be removed in the future. The current behavior is equivalent to passing `weights=EfficientNet_B0_Weights.IMAGENET1K_V1`. You can also use `weights=EfficientNet_B0_Weights.DEFAULT` to get the most up-to-date weights.\n",
      "  warnings.warn(msg)\n"
     ]
    }
   ],
   "source": [
    "import torch\n",
    "import torch.nn as nn\n",
    "from torchvision import models\n",
    "\n",
    "class AcneClassifier(nn.Module):\n",
    "    def __init__(self, num_classes=5):\n",
    "        super(AcneClassifier, self).__init__()\n",
    "        # EfficientNet-B0 모델 로드 (pretrained=True로 ImageNet 가중치 사용)\n",
    "        self.model = models.efficientnet_b0(pretrained=True)\n",
    "        \n",
    "        # 초기 레이어 동결\n",
    "        for param in self.model.parameters():\n",
    "            param.requires_grad = False\n",
    "        \n",
    "        # features의 후반 레이어 해제 (마지막 4개 블록: features[5] ~ features[8])\n",
    "        num_blocks = len(self.model.features)  # features의 총 블록 수 (9개)\n",
    "        for i in range(max(0, num_blocks - 4), num_blocks):  # 마지막 4개 블록 해제\n",
    "            for param in self.model.features[i].parameters():\n",
    "                param.requires_grad = True\n",
    "        \n",
    "        # classifier 부분 전체 해제\n",
    "        for param in self.model.classifier.parameters():\n",
    "            param.requires_grad = True\n",
    "        \n",
    "        # 출력 레이어 수정: ImageNet 1000 클래스 -> 5 클래스\n",
    "        num_ftrs = self.model.classifier[1].in_features  # EfficientNet-B0의 classifier 입력 크기 (1280)\n",
    "        self.model.classifier = nn.Sequential(\n",
    "            nn.Dropout(0.2),  # Dropout 비율 0.2로 설정\n",
    "            nn.Linear(num_ftrs, num_classes)\n",
    "        )\n",
    "\n",
    "    def forward(self, x):\n",
    "        return self.model(x)\n",
    "\n",
    "# 모델 인스턴스 생성\n",
    "model = AcneClassifier(num_classes=NUM_CLASSES)\n",
    "model.to(DEVICE)\n",
    "print(\"EfficientNet-B0 모델 로드 완료! 총 매개변수:\", sum(p.numel() for p in model.parameters()))"
   ]
  },
  {
   "cell_type": "code",
   "execution_count": 19,
   "id": "1df70ce9",
   "metadata": {},
   "outputs": [],
   "source": [
    "# 8. 학습 설정\n",
    "class_counts = train_bal[\"label_name\"].value_counts()\n",
    "weights = torch.tensor([1.0 / class_counts[cls] for cls in CLASS_ID_MAP.keys()], dtype=torch.float).to(DEVICE)\n",
    "criterion = nn.CrossEntropyLoss(weight=weights)\n",
    "optimizer = optim.Adam(model.parameters(), lr=0.00003)  # ResNet-50용 낮은 학습률\n",
    "scheduler = ReduceLROnPlateau(optimizer, mode='min', factor=0.1, patience=3)\n",
    "\n",
    "# 조기 종료 설정\n",
    "patience = 5\n",
    "best_val_loss = float('inf')\n",
    "counter = 0\n",
    "best_model_path = os.path.join(BASE_DIR, 'best_acne_model.pth')"
   ]
  },
  {
   "cell_type": "code",
   "execution_count": 20,
   "id": "95e3904e",
   "metadata": {},
   "outputs": [
    {
     "name": "stderr",
     "output_type": "stream",
     "text": [
      "Epoch 1/20: 100%|██████████| 163/163 [01:20<00:00,  2.04it/s]\n"
     ]
    },
    {
     "name": "stdout",
     "output_type": "stream",
     "text": [
      "Epoch 1/20 - Train Loss: 1.1234, Train Acc: 0.6500, Val Loss: 0.6858, Val Acc: 0.8264\n",
      "Best model saved with Val Loss: 0.6858\n"
     ]
    },
    {
     "name": "stderr",
     "output_type": "stream",
     "text": [
      "Epoch 2/20: 100%|██████████| 163/163 [01:13<00:00,  2.23it/s]\n"
     ]
    },
    {
     "name": "stdout",
     "output_type": "stream",
     "text": [
      "Epoch 2/20 - Train Loss: 0.6327, Train Acc: 0.7941, Val Loss: 0.4741, Val Acc: 0.8533\n",
      "Best model saved with Val Loss: 0.4741\n"
     ]
    },
    {
     "name": "stderr",
     "output_type": "stream",
     "text": [
      "Epoch 3/20: 100%|██████████| 163/163 [01:14<00:00,  2.20it/s]\n"
     ]
    },
    {
     "name": "stdout",
     "output_type": "stream",
     "text": [
      "Epoch 3/20 - Train Loss: 0.4930, Train Acc: 0.8342, Val Loss: 0.3522, Val Acc: 0.8657\n",
      "Best model saved with Val Loss: 0.3522\n"
     ]
    },
    {
     "name": "stderr",
     "output_type": "stream",
     "text": [
      "Epoch 4/20: 100%|██████████| 163/163 [01:12<00:00,  2.24it/s]\n"
     ]
    },
    {
     "name": "stdout",
     "output_type": "stream",
     "text": [
      "Epoch 4/20 - Train Loss: 0.4475, Train Acc: 0.8412, Val Loss: 0.2860, Val Acc: 0.9029\n",
      "Best model saved with Val Loss: 0.2860\n"
     ]
    },
    {
     "name": "stderr",
     "output_type": "stream",
     "text": [
      "Epoch 5/20: 100%|██████████| 163/163 [01:29<00:00,  1.83it/s]\n"
     ]
    },
    {
     "name": "stdout",
     "output_type": "stream",
     "text": [
      "Epoch 5/20 - Train Loss: 0.4044, Train Acc: 0.8558, Val Loss: 0.2642, Val Acc: 0.9256\n",
      "Best model saved with Val Loss: 0.2642\n"
     ]
    },
    {
     "name": "stderr",
     "output_type": "stream",
     "text": [
      "Epoch 6/20: 100%|██████████| 163/163 [01:22<00:00,  1.97it/s]\n"
     ]
    },
    {
     "name": "stdout",
     "output_type": "stream",
     "text": [
      "Epoch 6/20 - Train Loss: 0.3763, Train Acc: 0.8689, Val Loss: 0.2220, Val Acc: 0.9360\n",
      "Best model saved with Val Loss: 0.2220\n"
     ]
    },
    {
     "name": "stderr",
     "output_type": "stream",
     "text": [
      "Epoch 7/20: 100%|██████████| 163/163 [01:12<00:00,  2.23it/s]\n"
     ]
    },
    {
     "name": "stdout",
     "output_type": "stream",
     "text": [
      "Epoch 7/20 - Train Loss: 0.3426, Train Acc: 0.8751, Val Loss: 0.1883, Val Acc: 0.9298\n",
      "Best model saved with Val Loss: 0.1883\n"
     ]
    },
    {
     "name": "stderr",
     "output_type": "stream",
     "text": [
      "Epoch 8/20: 100%|██████████| 163/163 [01:13<00:00,  2.22it/s]\n"
     ]
    },
    {
     "name": "stdout",
     "output_type": "stream",
     "text": [
      "Epoch 8/20 - Train Loss: 0.3427, Train Acc: 0.8843, Val Loss: 0.1732, Val Acc: 0.9277\n",
      "Best model saved with Val Loss: 0.1732\n"
     ]
    },
    {
     "name": "stderr",
     "output_type": "stream",
     "text": [
      "Epoch 9/20: 100%|██████████| 163/163 [01:10<00:00,  2.30it/s]\n"
     ]
    },
    {
     "name": "stdout",
     "output_type": "stream",
     "text": [
      "Epoch 9/20 - Train Loss: 0.2812, Train Acc: 0.8959, Val Loss: 0.1725, Val Acc: 0.9545\n",
      "Best model saved with Val Loss: 0.1725\n"
     ]
    },
    {
     "name": "stderr",
     "output_type": "stream",
     "text": [
      "Epoch 10/20: 100%|██████████| 163/163 [02:21<00:00,  1.15it/s]\n"
     ]
    },
    {
     "name": "stdout",
     "output_type": "stream",
     "text": [
      "Epoch 10/20 - Train Loss: 0.2848, Train Acc: 0.9005, Val Loss: 0.1491, Val Acc: 0.9380\n",
      "Best model saved with Val Loss: 0.1491\n"
     ]
    },
    {
     "name": "stderr",
     "output_type": "stream",
     "text": [
      "Epoch 11/20: 100%|██████████| 163/163 [01:53<00:00,  1.44it/s]\n"
     ]
    },
    {
     "name": "stdout",
     "output_type": "stream",
     "text": [
      "Epoch 11/20 - Train Loss: 0.2651, Train Acc: 0.9013, Val Loss: 0.1194, Val Acc: 0.9525\n",
      "Best model saved with Val Loss: 0.1194\n"
     ]
    },
    {
     "name": "stderr",
     "output_type": "stream",
     "text": [
      "Epoch 12/20: 100%|██████████| 163/163 [02:00<00:00,  1.35it/s]\n"
     ]
    },
    {
     "name": "stdout",
     "output_type": "stream",
     "text": [
      "Epoch 12/20 - Train Loss: 0.2525, Train Acc: 0.9036, Val Loss: 0.1187, Val Acc: 0.9690\n",
      "Best model saved with Val Loss: 0.1187\n"
     ]
    },
    {
     "name": "stderr",
     "output_type": "stream",
     "text": [
      "Epoch 13/20: 100%|██████████| 163/163 [01:27<00:00,  1.86it/s]\n"
     ]
    },
    {
     "name": "stdout",
     "output_type": "stream",
     "text": [
      "Epoch 13/20 - Train Loss: 0.2480, Train Acc: 0.9121, Val Loss: 0.1110, Val Acc: 0.9731\n",
      "Best model saved with Val Loss: 0.1110\n"
     ]
    },
    {
     "name": "stderr",
     "output_type": "stream",
     "text": [
      "Epoch 14/20: 100%|██████████| 163/163 [01:47<00:00,  1.52it/s]\n"
     ]
    },
    {
     "name": "stdout",
     "output_type": "stream",
     "text": [
      "Epoch 14/20 - Train Loss: 0.2254, Train Acc: 0.9190, Val Loss: 0.0952, Val Acc: 0.9773\n",
      "Best model saved with Val Loss: 0.0952\n"
     ]
    },
    {
     "name": "stderr",
     "output_type": "stream",
     "text": [
      "Epoch 15/20: 100%|██████████| 163/163 [01:27<00:00,  1.86it/s]\n"
     ]
    },
    {
     "name": "stdout",
     "output_type": "stream",
     "text": [
      "Epoch 15/20 - Train Loss: 0.2228, Train Acc: 0.9244, Val Loss: 0.0882, Val Acc: 0.9793\n",
      "Best model saved with Val Loss: 0.0882\n"
     ]
    },
    {
     "name": "stderr",
     "output_type": "stream",
     "text": [
      "Epoch 16/20: 100%|██████████| 163/163 [02:00<00:00,  1.35it/s]\n"
     ]
    },
    {
     "name": "stdout",
     "output_type": "stream",
     "text": [
      "Epoch 16/20 - Train Loss: 0.2104, Train Acc: 0.9306, Val Loss: 0.0687, Val Acc: 0.9814\n",
      "Best model saved with Val Loss: 0.0687\n"
     ]
    },
    {
     "name": "stderr",
     "output_type": "stream",
     "text": [
      "Epoch 17/20: 100%|██████████| 163/163 [02:19<00:00,  1.17it/s]\n"
     ]
    },
    {
     "name": "stdout",
     "output_type": "stream",
     "text": [
      "Epoch 17/20 - Train Loss: 0.2029, Train Acc: 0.9291, Val Loss: 0.0641, Val Acc: 0.9876\n",
      "Best model saved with Val Loss: 0.0641\n"
     ]
    },
    {
     "name": "stderr",
     "output_type": "stream",
     "text": [
      "Epoch 18/20: 100%|██████████| 163/163 [02:16<00:00,  1.20it/s]\n"
     ]
    },
    {
     "name": "stdout",
     "output_type": "stream",
     "text": [
      "Epoch 18/20 - Train Loss: 0.1977, Train Acc: 0.9368, Val Loss: 0.0502, Val Acc: 0.9876\n",
      "Best model saved with Val Loss: 0.0502\n"
     ]
    },
    {
     "name": "stderr",
     "output_type": "stream",
     "text": [
      "Epoch 19/20: 100%|██████████| 163/163 [02:03<00:00,  1.32it/s]\n"
     ]
    },
    {
     "name": "stdout",
     "output_type": "stream",
     "text": [
      "Epoch 19/20 - Train Loss: 0.1939, Train Acc: 0.9337, Val Loss: 0.0507, Val Acc: 0.9876\n"
     ]
    },
    {
     "name": "stderr",
     "output_type": "stream",
     "text": [
      "Epoch 20/20: 100%|██████████| 163/163 [02:31<00:00,  1.08it/s]\n"
     ]
    },
    {
     "name": "stdout",
     "output_type": "stream",
     "text": [
      "Epoch 20/20 - Train Loss: 0.1671, Train Acc: 0.9483, Val Loss: 0.0457, Val Acc: 0.9897\n",
      "Best model saved with Val Loss: 0.0457\n"
     ]
    }
   ],
   "source": [
    "# 9. 학습 루프\n",
    "train_losses, val_losses = [], []\n",
    "train_accuracies, val_accuracies = [], []\n",
    "\n",
    "for epoch in range(EPOCHS):\n",
    "    model.train()\n",
    "    running_loss = 0.0\n",
    "    correct = 0\n",
    "    total = 0\n",
    "    for inputs, labels in tqdm(train_loader, desc=f\"Epoch {epoch+1}/{EPOCHS}\"):\n",
    "        inputs, labels = inputs.to(DEVICE), labels.to(DEVICE)\n",
    "        optimizer.zero_grad()\n",
    "        outputs = model(inputs)\n",
    "        loss = criterion(outputs, labels)\n",
    "        loss.backward()\n",
    "        optimizer.step()\n",
    "        running_loss += loss.item()\n",
    "        _, predicted = torch.max(outputs.data, 1)\n",
    "        total += labels.size(0)\n",
    "        correct += (predicted == labels).sum().item()\n",
    "    train_loss = running_loss / len(train_loader)\n",
    "    train_acc = correct / total\n",
    "    train_losses.append(train_loss)\n",
    "    train_accuracies.append(train_acc)\n",
    "\n",
    "    model.eval()\n",
    "    val_loss = 0.0\n",
    "    correct = 0\n",
    "    total = 0\n",
    "    with torch.no_grad():\n",
    "        for inputs, labels in val_loader:\n",
    "            inputs, labels = inputs.to(DEVICE), labels.to(DEVICE)\n",
    "            outputs = model(inputs)\n",
    "            loss = criterion(outputs, labels)\n",
    "            val_loss += loss.item()\n",
    "            _, predicted = torch.max(outputs.data, 1)\n",
    "            total += labels.size(0)\n",
    "            correct += (predicted == labels).sum().item()\n",
    "    val_loss /= len(val_loader)\n",
    "    val_acc = correct / total\n",
    "    val_losses.append(val_loss)\n",
    "    val_accuracies.append(val_acc)\n",
    "\n",
    "    print(f\"Epoch {epoch+1}/{EPOCHS} - Train Loss: {train_loss:.4f}, Train Acc: {train_acc:.4f}, Val Loss: {val_loss:.4f}, Val Acc: {val_acc:.4f}\")\n",
    "\n",
    "    # 조기 종료\n",
    "    if val_loss < best_val_loss:\n",
    "        best_val_loss = val_loss\n",
    "        counter = 0\n",
    "        torch.save(model.state_dict(), best_model_path)\n",
    "        print(f\"Best model saved with Val Loss: {best_val_loss:.4f}\")\n",
    "    else:\n",
    "        counter += 1\n",
    "        if counter >= patience:\n",
    "            print(f\"Early stopping at epoch {epoch+1}\")\n",
    "            break\n",
    "\n",
    "    scheduler.step(val_loss)"
   ]
  },
  {
   "cell_type": "code",
   "execution_count": 21,
   "id": "fe663045",
   "metadata": {},
   "outputs": [
    {
     "name": "stdout",
     "output_type": "stream",
     "text": [
      "모델 저장 완료!\n"
     ]
    }
   ],
   "source": [
    "# 10. 모델 저장\n",
    "torch.save(model.state_dict(), os.path.join(BASE_DIR, 'acne_model.pth'))\n",
    "print(\"모델 저장 완료!\")"
   ]
  },
  {
   "cell_type": "code",
   "execution_count": 22,
   "id": "bfa5be9f",
   "metadata": {},
   "outputs": [
    {
     "name": "stdout",
     "output_type": "stream",
     "text": [
      "Predicted classes: ['normal', 'mild', 'moderate', 'severe', 'very_severe']\n"
     ]
    }
   ],
   "source": [
    "# 11. 테스트 및 평가\n",
    "model.load_state_dict(torch.load(best_model_path))\n",
    "model.eval()\n",
    "y_true, y_pred = [], []\n",
    "with torch.no_grad():\n",
    "    for inputs, labels in test_loader:\n",
    "        inputs, labels = inputs.to(DEVICE), labels.to(DEVICE)\n",
    "        outputs = model(inputs)\n",
    "        _, predicted = torch.max(outputs.data, 1)\n",
    "        y_true.extend(labels.cpu().numpy())\n",
    "        y_pred.extend(predicted.cpu().numpy())\n",
    "\n",
    "# 예측된 클래스 확인\n",
    "unique_preds = np.unique(y_pred)\n",
    "print(\"Predicted classes:\", [list(CLASS_ID_MAP.keys())[i] for i in unique_preds])"
   ]
  },
  {
   "cell_type": "code",
   "execution_count": 23,
   "id": "e643be76",
   "metadata": {},
   "outputs": [
    {
     "name": "stdout",
     "output_type": "stream",
     "text": [
      "\n",
      "Classification Report:\n",
      "              precision    recall  f1-score   support\n",
      "\n",
      "      normal       0.96      0.98      0.97        54\n",
      "        mild       0.92      0.86      0.89        14\n",
      "    moderate       1.00      1.00      1.00       141\n",
      "      severe       0.78      0.74      0.76        19\n",
      " very_severe       0.73      0.79      0.76        14\n",
      "\n",
      "    accuracy                           0.95       242\n",
      "   macro avg       0.88      0.87      0.88       242\n",
      "weighted avg       0.95      0.95      0.95       242\n",
      "\n"
     ]
    }
   ],
   "source": [
    "# Classification Report\n",
    "print(\"\\nClassification Report:\")\n",
    "print(classification_report(y_true, y_pred, target_names=list(CLASS_ID_MAP.keys()), zero_division=0))"
   ]
  },
  {
   "cell_type": "code",
   "execution_count": 24,
   "id": "9ca61126",
   "metadata": {},
   "outputs": [
    {
     "data": {
      "image/png": "[encoded data removed]",
      "text/plain": [
       "<Figure size 800x600 with 2 Axes>"
      ]
     },
     "metadata": {},
     "output_type": "display_data"
    }
   ],
   "source": [
    "# Confusion Matrix\n",
    "cm = confusion_matrix(y_true, y_pred)\n",
    "plt.figure(figsize=(8, 6))\n",
    "sns.heatmap(cm, annot=True, fmt='d', cmap='Blues', xticklabels=list(CLASS_ID_MAP.keys()), yticklabels=list(CLASS_ID_MAP.keys()))\n",
    "plt.title('Confusion Matrix')\n",
    "plt.xlabel('Predicted')\n",
    "plt.ylabel('True')\n",
    "plt.show()"
   ]
  },
  {
   "cell_type": "code",
   "execution_count": 25,
   "id": "42350fd1",
   "metadata": {},
   "outputs": [
    {
     "data": {
      "image/png": "[encoded data removed]",
      "text/plain": [
       "<Figure size 1000x500 with 2 Axes>"
      ]
     },
     "metadata": {},
     "output_type": "display_data"
    }
   ],
   "source": [
    "# 12. 손실 및 정확도 시각화\n",
    "plt.figure(figsize=(10, 5))\n",
    "plt.subplot(1, 2, 1)\n",
    "plt.plot(train_losses, label='Train Loss')\n",
    "plt.plot(val_losses, label='Val Loss')\n",
    "plt.title('Loss')\n",
    "plt.legend()\n",
    "plt.subplot(1, 2, 2)\n",
    "plt.plot(train_accuracies, label='Train Acc')\n",
    "plt.plot(val_accuracies, label='Val Acc')\n",
    "plt.title('Accuracy')\n",
    "plt.legend()\n",
    "plt.show()"
   ]
  }
 ],
 "metadata": {
  "kernelspec": {
   "display_name": "project",
   "language": "python",
   "name": "python3"
  },
  "language_info": {
   "codemirror_mode": {
    "name": "ipython",
    "version": 3
   },
   "file_extension": ".py",
   "mimetype": "text/x-python",
   "name": "python",
   "nbconvert_exporter": "python",
   "pygments_lexer": "ipython3",
   "version": "3.13.7"
  }
 },
 "nbformat": 4,
 "nbformat_minor": 5
}
