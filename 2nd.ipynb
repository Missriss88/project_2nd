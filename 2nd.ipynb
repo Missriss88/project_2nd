{
 "cells": [
  {
   "cell_type": "code",
   "execution_count": 34,
   "id": "48d21bb0",
   "metadata": {},
   "outputs": [],
   "source": [
    "import os\n",
    "from PIL import Image\n",
    "import numpy as np\n",
    "import pandas as pd\n",
    "from glob import glob\n",
    "from sklearn.model_selection import train_test_split\n",
    "from collections import Counter\n",
    "import torch\n",
    "import torch.nn as nn\n",
    "import torch.optim as optim\n",
    "from torch.optim.lr_scheduler import ReduceLROnPlateau\n",
    "from torchvision import datasets, transforms, models\n",
    "from torch.utils.data import DataLoader\n",
    "from tqdm import tqdm\n",
    "import matplotlib.pyplot as plt\n",
    "import shutil"
   ]
  },
  {
   "cell_type": "code",
   "execution_count": 35,
   "id": "db83082f",
   "metadata": {},
   "outputs": [
    {
     "name": "stdout",
     "output_type": "stream",
     "text": [
      "Using device: cpu\n"
     ]
    }
   ],
   "source": [
    "# GPU 또는 CPU 설정\n",
    "DEVICE = torch.device('cuda' if torch.cuda.is_available() else 'cpu')\n",
    "print(f\"Using device: {DEVICE}\")"
   ]
  },
  {
   "cell_type": "code",
   "execution_count": 36,
   "id": "91fee487",
   "metadata": {},
   "outputs": [],
   "source": [
    "# 데이터 경로 설정\n",
    "BASE_DIR = os.path.join(os.getcwd(), \"resized\")\n",
    "IMG_DIR = BASE_DIR  # resized/resized 중복 제거\n",
    "CLASS_DIRS = {\n",
    "    \"normal\": os.path.join(BASE_DIR, \"normal\"),\n",
    "    \"mild\": os.path.join(BASE_DIR, \"mild\"),\n",
    "    \"moderate\": os.path.join(BASE_DIR, \"moderate\"),\n",
    "    \"severe\": os.path.join(BASE_DIR, \"severe\"),\n",
    "    \"very_severe\": os.path.join(BASE_DIR, \"very_severe\")\n",
    "}\n",
    "ACNE_NAME_MAP = {0: \"mild\", 1: \"moderate\", 2: \"severe\", 3: \"very_severe\"}\n",
    "CLASS_ID_MAP = {\"normal\": 0, \"mild\": 1, \"moderate\": 2, \"severe\": 3, \"very_severe\": 4}\n",
    "IMG_EXTS = (\".jpg\", \".jpeg\", \".png\", \".bmp\", \".tif\", \".tiff\", \".webp\")\n",
    "NUM_CLASSES = 5\n",
    "EPOCHS = 5\n",
    "BATCH_SIZE = 32  # CPU면 16 또는 8로 줄이기"
   ]
  },
  {
   "cell_type": "code",
   "execution_count": 37,
   "id": "5fe15061",
   "metadata": {},
   "outputs": [],
   "source": [
    "# 이미지 파일 확인 함수\n",
    "def is_image(p):\n",
    "    return os.path.isfile(p) and p.lower().endswith(IMG_EXTS)\n",
    "\n",
    "def file_exists(p):\n",
    "    try:\n",
    "        return os.path.exists(p)\n",
    "    except:\n",
    "        return False"
   ]
  },
  {
   "cell_type": "code",
   "execution_count": 38,
   "id": "8e64abb8",
   "metadata": {},
   "outputs": [
    {
     "name": "stdout",
     "output_type": "stream",
     "text": [
      "[DEBUG] normal files found: 936\n",
      "[DEBUG] mild files found: 359\n",
      "[DEBUG] moderate files found: 95\n",
      "[DEBUG] severe files found: 128\n",
      "[DEBUG] very_severe files found: 90\n",
      "Label distribution:\n",
      " label_name\n",
      "normal         936\n",
      "mild           359\n",
      "severe         128\n",
      "moderate        95\n",
      "very_severe     90\n",
      "Name: count, dtype: int64\n",
      "Sample 5 rows:\n",
      "                                             filepath label_name  label_id  \\\n",
      "0  c:\\Users\\Admin\\work space\\data\\resized\\normal\\...     normal         0   \n",
      "1  c:\\Users\\Admin\\work space\\data\\resized\\normal\\...     normal         0   \n",
      "2  c:\\Users\\Admin\\work space\\data\\resized\\normal\\...     normal         0   \n",
      "3  c:\\Users\\Admin\\work space\\data\\resized\\normal\\...     normal         0   \n",
      "4  c:\\Users\\Admin\\work space\\data\\resized\\normal\\...     normal         0   \n",
      "\n",
      "      source given_split orig_severity_id group_id  \n",
      "0  dataset_A  unassigned             None     None  \n",
      "1  dataset_A  unassigned             None     None  \n",
      "2  dataset_A  unassigned             None     None  \n",
      "3  dataset_A  unassigned             None     None  \n",
      "4  dataset_A  unassigned             None     None  \n",
      "Saved: c:\\Users\\Admin\\work space\\data\\resized\\labels_total.csv\n"
     ]
    }
   ],
   "source": [
    "# 데이터 전처리: CSV 생성\n",
    "rows = []\n",
    "for label_name, class_dir in CLASS_DIRS.items():\n",
    "    if os.path.isdir(class_dir):\n",
    "        class_files = [p for p in glob(os.path.join(class_dir, \"**\", \"*\"), recursive=True) if is_image(p)]\n",
    "        print(f\"[DEBUG] {label_name} files found: {len(class_files)}\")\n",
    "        for fp in class_files:\n",
    "            rows.append([fp, label_name, CLASS_ID_MAP[label_name], \"dataset_A\", \"unassigned\", None, None])\n",
    "    else:\n",
    "        print(f\"[WARN] {label_name} directory not found: {class_dir}\")\n",
    "\n",
    "txt_files = sorted(glob(os.path.join(BASE_DIR, \"NNEW_*.txt\")))\n",
    "for txt in txt_files:\n",
    "    given_split = os.path.basename(txt)\n",
    "    with open(txt, \"r\", encoding=\"utf-8-sig\") as fh:\n",
    "        for line in fh:\n",
    "            parts = line.strip().split()\n",
    "            if len(parts) < 2:\n",
    "                continue\n",
    "            filename = parts[0]\n",
    "            try:\n",
    "                sev_id = int(parts[1])\n",
    "            except:\n",
    "                continue\n",
    "            label_name = ACNE_NAME_MAP.get(sev_id, \"unknown\")\n",
    "            if label_name == \"unknown\":\n",
    "                continue\n",
    "            label_id = CLASS_ID_MAP[label_name]\n",
    "            fp = os.path.join(IMG_DIR, filename)\n",
    "            group_id = parts[2] if len(parts) >= 3 else None\n",
    "            rows.append([fp, label_name, label_id, \"dataset_B\", given_split, sev_id, group_id])\n",
    "\n",
    "df = pd.DataFrame(rows, columns=[\n",
    "    \"filepath\", \"label_name\", \"label_id\", \"source\", \"given_split\", \"orig_severity_id\", \"group_id\"\n",
    "])\n",
    "df = df[df[\"filepath\"].apply(file_exists)].drop_duplicates(subset=\"filepath\").reset_index(drop=True)\n",
    "print(\"Label distribution:\\n\", df[\"label_name\"].value_counts())\n",
    "print(\"Sample 5 rows:\\n\", df.head())\n",
    "out_csv = os.path.join(BASE_DIR, \"labels_total.csv\")\n",
    "df.to_csv(out_csv, index=False, encoding=\"utf-8-sig\")\n",
    "print(f\"Saved: {out_csv}\")"
   ]
  },
  {
   "cell_type": "code",
   "execution_count": 39,
   "id": "75c968ed",
   "metadata": {},
   "outputs": [
    {
     "name": "stdout",
     "output_type": "stream",
     "text": [
      "Train: label_name\n",
      "normal         654\n",
      "mild           251\n",
      "severe          90\n",
      "moderate        67\n",
      "very_severe     62\n",
      "Name: count, dtype: int64\n",
      "Val: label_name\n",
      "normal         141\n",
      "mild            54\n",
      "severe          19\n",
      "very_severe     14\n",
      "moderate        14\n",
      "Name: count, dtype: int64\n",
      "Test: label_name\n",
      "normal         141\n",
      "mild            54\n",
      "severe          19\n",
      "very_severe     14\n",
      "moderate        14\n",
      "Name: count, dtype: int64\n"
     ]
    }
   ],
   "source": [
    "# 데이터셋 분할: Train/Val/Test\n",
    "df = pd.read_csv(out_csv)\n",
    "train_df, test_df = train_test_split(df, test_size=0.15, stratify=df[\"label_name\"], random_state=42)\n",
    "train_df, val_df = train_test_split(train_df, test_size=0.1765, stratify=train_df[\"label_name\"], random_state=42)\n",
    "train_df.to_csv(os.path.join(BASE_DIR, \"split_train.csv\"), index=False)\n",
    "val_df.to_csv(os.path.join(BASE_DIR, \"split_val.csv\"), index=False)\n",
    "test_df.to_csv(os.path.join(BASE_DIR, \"split_test.csv\"), index=False)\n",
    "print(\"Train:\", train_df[\"label_name\"].value_counts())\n",
    "print(\"Val:\", val_df[\"label_name\"].value_counts())\n",
    "print(\"Test:\", test_df[\"label_name\"].value_counts())"
   ]
  },
  {
   "cell_type": "code",
   "execution_count": 40,
   "id": "5a8ddd00",
   "metadata": {},
   "outputs": [
    {
     "name": "stdout",
     "output_type": "stream",
     "text": [
      "label_name\n",
      "mild            800\n",
      "moderate        800\n",
      "normal         1000\n",
      "severe          500\n",
      "very_severe     500\n",
      "Name: count, dtype: int64\n"
     ]
    }
   ],
   "source": [
    "# 학습 데이터 밸런싱\n",
    "targets = {\"normal\": 1000, \"mild\": 800, \"moderate\": 800, \"severe\": 500, \"very_severe\": 500}\n",
    "def make_balanced(df, targets, label_col=\"label_name\", seed=42):\n",
    "    rng = np.random.default_rng(seed)\n",
    "    outs = []\n",
    "    for lab, n in targets.items():\n",
    "        sub = df[df[label_col] == lab]\n",
    "        if len(sub) == 0:\n",
    "            continue\n",
    "        if len(sub) >= n:\n",
    "            outs.append(sub.sample(n=n, random_state=seed))\n",
    "        else:\n",
    "            idx = rng.choice(sub.index.to_numpy(), size=n, replace=True)\n",
    "            outs.append(df.loc[idx])\n",
    "    return pd.concat(outs, ignore_index=True).sample(frac=1, random_state=seed).reset_index(drop=True)\n",
    "\n",
    "train_bal = make_balanced(train_df, targets)\n",
    "train_bal.to_csv(os.path.join(BASE_DIR, \"split_train.balanced.csv\"), index=False)\n",
    "val_df.to_csv(os.path.join(BASE_DIR, \"split_val.balanced.csv\"), index=False)\n",
    "test_df.to_csv(os.path.join(BASE_DIR, \"split_test.balanced.csv\"), index=False)\n",
    "print(train_bal[\"label_name\"].value_counts().sort_index())"
   ]
  },
  {
   "cell_type": "code",
   "execution_count": 41,
   "id": "51a1f8c0",
   "metadata": {},
   "outputs": [
    {
     "name": "stdout",
     "output_type": "stream",
     "text": [
      "Folder structure created!\n"
     ]
    }
   ],
   "source": [
    "# 폴더 구조 생성 (CSV 기반)\n",
    "def organize_folders(csv_path, dest_folder):\n",
    "    df = pd.read_csv(csv_path)\n",
    "    os.makedirs(dest_folder, exist_ok=True)\n",
    "    for _, row in df.iterrows():\n",
    "        label = row['label_name']\n",
    "        src_path = row['filepath']\n",
    "        dest_label_dir = os.path.join(dest_folder, label)\n",
    "        os.makedirs(dest_label_dir, exist_ok=True)\n",
    "        dest_path = os.path.join(dest_label_dir, os.path.basename(src_path))\n",
    "        if os.path.exists(src_path):\n",
    "            shutil.copy(src_path, dest_path)\n",
    "\n",
    "organize_folders(os.path.join(BASE_DIR, \"split_train.balanced.csv\"), os.path.join(BASE_DIR, \"train\"))\n",
    "organize_folders(os.path.join(BASE_DIR, \"split_val.balanced.csv\"), os.path.join(BASE_DIR, \"val\"))\n",
    "organize_folders(os.path.join(BASE_DIR, \"split_test.balanced.csv\"), os.path.join(BASE_DIR, \"test\"))\n",
    "print(\"Folder structure created!\")"
   ]
  },
  {
   "cell_type": "code",
   "execution_count": 42,
   "id": "7ba45b17",
   "metadata": {},
   "outputs": [],
   "source": [
    "# 데이터 로드 및 증강\n",
    "train_transform = transforms.Compose([\n",
    "    transforms.Resize((256, 256)),\n",
    "    transforms.RandomHorizontalFlip(),\n",
    "    transforms.RandomRotation(10),\n",
    "    transforms.ColorJitter(brightness=0.2, contrast=0.2, saturation=0.2, hue=0.2),\n",
    "    transforms.ToTensor(),\n",
    "    transforms.Normalize(mean=[0.485, 0.456, 0.406], std=[0.229, 0.224, 0.225])\n",
    "])\n",
    "val_test_transform = transforms.Compose([\n",
    "    transforms.Resize((256, 256)),\n",
    "    transforms.ToTensor(),\n",
    "    transforms.Normalize(mean=[0.485, 0.456, 0.406], std=[0.229, 0.224, 0.225])\n",
    "])\n",
    "\n",
    "train_dataset = datasets.ImageFolder(os.path.join(BASE_DIR, \"train\"), transform=train_transform)\n",
    "val_dataset = datasets.ImageFolder(os.path.join(BASE_DIR, \"val\"), transform=val_test_transform)\n",
    "test_dataset = datasets.ImageFolder(os.path.join(BASE_DIR, \"test\"), transform=val_test_transform)\n",
    "train_loader = DataLoader(train_dataset, batch_size=BATCH_SIZE, shuffle=True)\n",
    "val_loader = DataLoader(val_dataset, batch_size=BATCH_SIZE, shuffle=False)\n",
    "test_loader = DataLoader(test_dataset, batch_size=BATCH_SIZE, shuffle=False)"
   ]
  },
  {
   "cell_type": "code",
   "execution_count": 43,
   "id": "7e7ea839",
   "metadata": {},
   "outputs": [
    {
     "name": "stdout",
     "output_type": "stream",
     "text": [
      "Class weights: tensor([1.1515, 0.8106, 0.4218, 3.2297, 4.5933])\n"
     ]
    }
   ],
   "source": [
    "# 클래스 가중치 계산\n",
    "class_counts = Counter(train_dataset.targets)\n",
    "total_samples = sum(class_counts.values())\n",
    "class_weights = torch.tensor([total_samples / (NUM_CLASSES * class_counts[i]) for i in range(NUM_CLASSES)], dtype=torch.float).to(DEVICE)\n",
    "print(f\"Class weights: {class_weights}\")"
   ]
  },
  {
   "cell_type": "code",
   "execution_count": 44,
   "id": "dbd38cec",
   "metadata": {},
   "outputs": [],
   "source": [
    "import torch\n",
    "import torchvision.models as models\n",
    "import torch.nn as nn\n",
    "\n",
    "# ResNet18 모델 로드\n",
    "model = models.resnet18(weights=models.ResNet18_Weights.IMAGENET1K_V1)  # 또는 weights='IMAGENET1K_V1'\n",
    "model.fc = nn.Linear(model.fc.in_features, NUM_CLASSES)  # 출력 레이어 수정\n",
    "model = model.to(DEVICE)  # GPU/CPU로 모델 이동"
   ]
  },
  {
   "cell_type": "code",
   "execution_count": 45,
   "id": "b57798df",
   "metadata": {},
   "outputs": [],
   "source": [
    "# 학습 설정\n",
    "criterion = nn.CrossEntropyLoss(weight=class_weights)\n",
    "optimizer = optim.Adam(model.parameters(), lr=0.0001)\n",
    "scheduler = ReduceLROnPlateau(optimizer, mode='min', factor=0.1, patience=3)"
   ]
  },
  {
   "cell_type": "code",
   "execution_count": null,
   "id": "925cfa64",
   "metadata": {},
   "outputs": [
    {
     "name": "stderr",
     "output_type": "stream",
     "text": [
      "Epoch 1: 100%|██████████| 65/65 [05:08<00:00,  4.75s/it]\n"
     ]
    },
    {
     "name": "stdout",
     "output_type": "stream",
     "text": [
      "Epoch 1/5 - Train Loss: 0.9081, Train Acc: 68.99% - Val Loss: 0.2937, Val Acc: 88.50%\n"
     ]
    },
    {
     "name": "stderr",
     "output_type": "stream",
     "text": [
      "Epoch 2:  40%|████      | 26/65 [01:14<01:41,  2.59s/it]"
     ]
    }
   ],
   "source": [
    "# 학습 루프\n",
    "best_val_loss = float('inf')\n",
    "patience = 5\n",
    "counter = 0\n",
    "train_losses, val_losses, train_accuracies, val_accuracies = [], [], [], []\n",
    "\n",
    "for epoch in range(EPOCHS):\n",
    "    model.train()\n",
    "    running_loss = 0.0\n",
    "    correct = 0\n",
    "    total = 0\n",
    "    for images, labels in tqdm(train_loader, desc=f\"Epoch {epoch+1}\"):\n",
    "        images, labels = images.to(DEVICE), labels.to(DEVICE)\n",
    "        optimizer.zero_grad()\n",
    "        outputs = model(images)\n",
    "        loss = criterion(outputs, labels)\n",
    "        loss.backward()\n",
    "        optimizer.step()\n",
    "        running_loss += loss.item()\n",
    "        _, predicted = torch.max(outputs.data, 1)\n",
    "        total += labels.size(0)\n",
    "        correct += (predicted == labels).sum().item()\n",
    "\n",
    "    train_loss = running_loss / len(train_loader)\n",
    "    train_acc = 100 * correct / total\n",
    "    train_losses.append(train_loss)\n",
    "    train_accuracies.append(train_acc)\n",
    "\n",
    "    model.eval()\n",
    "    val_loss = 0.0\n",
    "    correct = 0\n",
    "    total = 0\n",
    "    with torch.no_grad():\n",
    "        for images, labels in val_loader:\n",
    "            images, labels = images.to(DEVICE), labels.to(DEVICE)\n",
    "            outputs = model(images)\n",
    "            loss = criterion(outputs, labels)\n",
    "            val_loss += loss.item()\n",
    "            _, predicted = torch.max(outputs.data, 1)\n",
    "            total += labels.size(0)\n",
    "            correct += (predicted == labels).sum().item()\n",
    "\n",
    "    val_loss /= len(val_loader)\n",
    "    val_acc = 100 * correct / total\n",
    "    val_losses.append(val_loss)\n",
    "    val_accuracies.append(val_acc)\n",
    "\n",
    "    print(f\"Epoch {epoch+1}/{EPOCHS} - Train Loss: {train_loss:.4f}, Train Acc: {train_acc:.2f}% - Val Loss: {val_loss:.4f}, Val Acc: {val_acc:.2f}%\")\n",
    "    scheduler.step(val_loss)\n",
    "\n",
    "    if val_loss < best_val_loss:\n",
    "        best_val_loss = val_loss\n",
    "        counter = 0\n",
    "        torch.save(model.state_dict(), os.path.join(BASE_DIR, \"best_acne_model.pth\"))\n",
    "    else:\n",
    "        counter += 1\n",
    "        if counter >= patience:\n",
    "            print(f\"Early stopping at epoch {epoch+1}\")\n",
    "            break"
   ]
  },
  {
   "cell_type": "code",
   "execution_count": null,
   "id": "80871e69",
   "metadata": {},
   "outputs": [
    {
     "data": {
      "image/png": "[encoded data removed]",
      "text/plain": [
       "<Figure size 1000x500 with 2 Axes>"
      ]
     },
     "metadata": {},
     "output_type": "display_data"
    }
   ],
   "source": [
    "# 결과 시각화\n",
    "plt.figure(figsize=(10, 5))\n",
    "plt.subplot(1, 2, 1)\n",
    "plt.plot(train_losses, label='Train Loss')\n",
    "plt.plot(val_losses, label='Val Loss')\n",
    "plt.title('Loss')\n",
    "plt.legend()\n",
    "plt.subplot(1, 2, 2)\n",
    "plt.plot(train_accuracies, label='Train Acc')\n",
    "plt.plot(val_accuracies, label='Val Acc')\n",
    "plt.title('Accuracy')\n",
    "plt.legend()\n",
    "plt.show()"
   ]
  }
 ],
 "metadata": {
  "kernelspec": {
   "display_name": "project",
   "language": "python",
   "name": "python3"
  },
  "language_info": {
   "codemirror_mode": {
    "name": "ipython",
    "version": 3
   },
   "file_extension": ".py",
   "mimetype": "text/x-python",
   "name": "python",
   "nbconvert_exporter": "python",
   "pygments_lexer": "ipython3",
   "version": "3.13.7"
  }
 },
 "nbformat": 4,
 "nbformat_minor": 5
}
