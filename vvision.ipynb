{
 "cells": [
  {
   "cell_type": "code",
   "execution_count": 1,
   "id": "e1c106b1",
   "metadata": {},
   "outputs": [],
   "source": [
    "import cv2\n",
    "import torch\n",
    "from ultralytics import YOLO\n",
    "from collections import defaultdict"
   ]
  },
  {
   "cell_type": "code",
   "execution_count": 2,
   "id": "072c011f",
   "metadata": {},
   "outputs": [
    {
     "name": "stdout",
     "output_type": "stream",
     "text": [
      "Using device: cuda\n"
     ]
    }
   ],
   "source": [
    "# --------------------------------------------------------------------------\n",
    "# 1. 설정 (Setup)\n",
    "# --------------------------------------------------------------------------\n",
    "\n",
    "# ⭐️⭐️⭐️ 여기에 학습시킨 '여드름 부분 탐지' 모델의 .pt 파일 경로를 입력하세요 ⭐️⭐️⭐️\n",
    "# 예시: 'acne_lesion_detection/yolo11n_lesion_detection_run/weights/best.pt'\n",
    "MODEL_PATH = 'acne_lesion_detection/yolo11n_lesion_detection_run/weights/best.pt'\n",
    "\n",
    "# GPU 또는 CPU 설정\n",
    "DEVICE = 'cuda' if torch.cuda.is_available() else 'cpu'\n",
    "print(f\"Using device: {DEVICE}\")"
   ]
  },
  {
   "cell_type": "code",
   "execution_count": 3,
   "id": "bb736115",
   "metadata": {},
   "outputs": [
    {
     "name": "stdout",
     "output_type": "stream",
     "text": [
      "모델 로드 성공!\n"
     ]
    }
   ],
   "source": [
    "# 모델 로드\n",
    "try:\n",
    "    model = YOLO(MODEL_PATH)\n",
    "    model.to(DEVICE)\n",
    "    print(\"모델 로드 성공!\")\n",
    "except Exception as e:\n",
    "    print(f\"모델 로드 실패: {e}\")\n",
    "    print(\"MODEL_PATH 변수에 정확한 모델 가중치(.pt) 파일 경로를 입력했는지 확인하세요.\")\n",
    "    exit()\n",
    "\n",
    "# 웹캠 초기화\n",
    "cap = cv2.VideoCapture(0)\n",
    "if not cap.isOpened():\n",
    "    print(\"웹캠을 열 수 없습니다.\")\n",
    "    exit()"
   ]
  },
  {
   "cell_type": "code",
   "execution_count": 4,
   "id": "1cab761b",
   "metadata": {},
   "outputs": [],
   "source": [
    "# --------------------------------------------------------------------------\n",
    "# 2. 심각도 판별 함수 (Severity Logic)\n",
    "# --------------------------------------------------------------------------\n",
    "def get_acne_severity(lesion_counts):\n",
    "    \"\"\"\n",
    "    탐지된 여드름 병변의 종류와 개수를 바탕으로 심각도를 판별하는 함수.\n",
    "    (의학적 기준을 단순화한 규칙 기반 로직)\n",
    "    \"\"\"\n",
    "    total_lesions = sum(lesion_counts.values())\n",
    "    \n",
    "    # 심각한 병변 (결절, 낭종 등)의 개수 확인\n",
    "    # 모델 클래스 이름을 소문자로 변환하여 비교 (예: 'nodules', 'cyst')\n",
    "    severe_lesion_count = lesion_counts.get('nodules', 0) + \\\n",
    "                          lesion_counts.get('acne fulminans', 0) # 전격성 여드름 등\n",
    "\n",
    "    # 규칙 기반 심각도 분류\n",
    "    if total_lesions == 0:\n",
    "        return \"정상 (Normal)\", (0, 255, 0)  # 녹색\n",
    "    elif severe_lesion_count >= 3 or total_lesions > 30:\n",
    "        return \"심각 (Severe)\", (0, 0, 255)  # 빨간색\n",
    "    elif severe_lesion_count >= 1 or total_lesions > 15:\n",
    "        return \"중등도 (Moderate)\", (0, 165, 255)  # 주황색\n",
    "    else:\n",
    "        return \"경증 (Mild)\", (0, 255, 255)  # 노란색"
   ]
  },
  {
   "cell_type": "code",
   "execution_count": 5,
   "id": "2846ed77",
   "metadata": {},
   "outputs": [],
   "source": [
    "# --------------------------------------------------------------------------\n",
    "# 3. 메인 루프 (Main Loop)\n",
    "# --------------------------------------------------------------------------\n",
    "while True:\n",
    "    # 웹캠에서 프레임 읽기\n",
    "    ret, frame = cap.read()\n",
    "    if not ret:\n",
    "        print(\"프레임을 읽을 수 없습니다. 종료합니다.\")\n",
    "        break\n",
    "\n",
    "    # 모델 추론 수행\n",
    "    results = model(frame, verbose=False) # verbose=False로 설정하여 터미널 로그 최소화\n",
    "\n",
    "    # 탐지된 객체 정보 처리\n",
    "    lesion_counts = defaultdict(int)\n",
    "    \n",
    "    # results[0]에 현재 프레임의 탐지 결과가 들어있음\n",
    "    for box in results[0].boxes:\n",
    "        # 클래스 ID와 신뢰도 점수 추출\n",
    "        class_id = int(box.cls[0])\n",
    "        confidence = float(box.conf[0])\n",
    "        \n",
    "        # 신뢰도가 0.5 이상인 경우에만 처리\n",
    "        if confidence > 0.5:\n",
    "            # 클래스 이름 가져오기 (소문자로 변환하여 일관성 유지)\n",
    "            class_name = model.names[class_id].lower()\n",
    "            lesion_counts[class_name] += 1\n",
    "            \n",
    "            # 바운딩 박스 좌표\n",
    "            x1, y1, x2, y2 = map(int, box.xyxy[0])\n",
    "            \n",
    "            # 바운딩 박스 그리기\n",
    "            cv2.rectangle(frame, (x1, y1), (x2, y2), (255, 0, 0), 2)\n",
    "            \n",
    "            # 클래스 이름과 신뢰도 표시\n",
    "            label = f\"{class_name.capitalize()}: {confidence:.2f}\"\n",
    "            cv2.putText(frame, label, (x1, y1 - 10), cv2.FONT_HERSHEY_SIMPLEX, 0.5, (255, 0, 0), 2)\n",
    "\n",
    "    # 심각도 판별\n",
    "    severity, color = get_acne_severity(lesion_counts)\n",
    "\n",
    "    # 화면에 정보 표시\n",
    "    y_offset = 30\n",
    "    cv2.putText(frame, \"Acne Detection & Severity Analysis\", (10, y_offset), cv2.FONT_HERSHEY_SIMPLEX, 0.8, (255, 255, 255), 2)\n",
    "    y_offset += 30\n",
    "    \n",
    "    # 심각도 표시\n",
    "    cv2.putText(frame, f\"Severity: {severity}\", (10, y_offset), cv2.FONT_HERSHEY_SIMPLEX, 0.7, color, 2)\n",
    "    y_offset += 30\n",
    "\n",
    "    # 각 여드름 개수 표시\n",
    "    for name, count in lesion_counts.items():\n",
    "        if count > 0:\n",
    "            cv2.putText(frame, f\"- {name.capitalize()}: {count}\", (10, y_offset), cv2.FONT_HERSHEY_SIMPLEX, 0.6, (255, 255, 255), 2)\n",
    "            y_offset += 25\n",
    "\n",
    "    # 결과 화면 출력\n",
    "    cv2.imshow('Webcam Acne Detection', frame)\n",
    "\n",
    "    # 'q' 키를 누르면 루프 종료\n",
    "    if cv2.waitKey(1) & 0xFF == ord('q'):\n",
    "        break"
   ]
  },
  {
   "cell_type": "code",
   "execution_count": 6,
   "id": "7610a338",
   "metadata": {},
   "outputs": [
    {
     "name": "stdout",
     "output_type": "stream",
     "text": [
      "프로그램을 종료합니다.\n"
     ]
    }
   ],
   "source": [
    "# --------------------------------------------------------------------------\n",
    "# 4. 종료 (Cleanup)\n",
    "# --------------------------------------------------------------------------\n",
    "cap.release()\n",
    "cv2.destroyAllWindows()\n",
    "print(\"프로그램을 종료합니다.\")"
   ]
  }
 ],
 "metadata": {
  "kernelspec": {
   "display_name": "project",
   "language": "python",
   "name": "python3"
  },
  "language_info": {
   "codemirror_mode": {
    "name": "ipython",
    "version": 3
   },
   "file_extension": ".py",
   "mimetype": "text/x-python",
   "name": "python",
   "nbconvert_exporter": "python",
   "pygments_lexer": "ipython3",
   "version": "3.13.7"
  }
 },
 "nbformat": 4,
 "nbformat_minor": 5
}
