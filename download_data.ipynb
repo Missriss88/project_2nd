{
 "cells": [
  {
   "cell_type": "code",
   "execution_count": 1,
   "id": "4505747f",
   "metadata": {},
   "outputs": [
    {
     "name": "stdout",
     "output_type": "stream",
     "text": [
      "Requirement already satisfied: roboflow in c:\\users\\admin\\miniconda3\\lib\\site-packages (1.2.9)\n",
      "Requirement already satisfied: certifi in c:\\users\\admin\\miniconda3\\lib\\site-packages (from roboflow) (2025.8.3)\n",
      "Requirement already satisfied: idna==3.7 in c:\\users\\admin\\miniconda3\\lib\\site-packages (from roboflow) (3.7)\n",
      "Requirement already satisfied: cycler in c:\\users\\admin\\miniconda3\\lib\\site-packages (from roboflow) (0.12.1)\n",
      "Requirement already satisfied: kiwisolver>=1.3.1 in c:\\users\\admin\\miniconda3\\lib\\site-packages (from roboflow) (1.4.8)\n",
      "Requirement already satisfied: matplotlib in c:\\users\\admin\\miniconda3\\lib\\site-packages (from roboflow) (3.10.3)\n",
      "Requirement already satisfied: numpy>=1.18.5 in c:\\users\\admin\\miniconda3\\lib\\site-packages (from roboflow) (2.2.6)\n",
      "Requirement already satisfied: opencv-python-headless==4.10.0.84 in c:\\users\\admin\\miniconda3\\lib\\site-packages (from roboflow) (4.10.0.84)\n",
      "Requirement already satisfied: Pillow>=7.1.2 in c:\\users\\admin\\miniconda3\\lib\\site-packages (from roboflow) (11.3.0)\n",
      "Requirement already satisfied: pi-heif<2 in c:\\users\\admin\\miniconda3\\lib\\site-packages (from roboflow) (1.1.0)\n",
      "Requirement already satisfied: pillow-avif-plugin<2 in c:\\users\\admin\\miniconda3\\lib\\site-packages (from roboflow) (1.5.2)\n",
      "Requirement already satisfied: python-dateutil in c:\\users\\admin\\miniconda3\\lib\\site-packages (from roboflow) (2.9.0.post0)\n",
      "Requirement already satisfied: python-dotenv in c:\\users\\admin\\miniconda3\\lib\\site-packages (from roboflow) (1.1.1)\n",
      "Requirement already satisfied: requests in c:\\users\\admin\\miniconda3\\lib\\site-packages (from roboflow) (2.32.3)\n",
      "Requirement already satisfied: six in c:\\users\\admin\\miniconda3\\lib\\site-packages (from roboflow) (1.17.0)\n",
      "Requirement already satisfied: urllib3>=1.26.6 in c:\\users\\admin\\miniconda3\\lib\\site-packages (from roboflow) (2.3.0)\n",
      "Requirement already satisfied: tqdm>=4.41.0 in c:\\users\\admin\\miniconda3\\lib\\site-packages (from roboflow) (4.67.1)\n",
      "Requirement already satisfied: PyYAML>=5.3.1 in c:\\users\\admin\\miniconda3\\lib\\site-packages (from roboflow) (6.0.2)\n",
      "Requirement already satisfied: requests-toolbelt in c:\\users\\admin\\miniconda3\\lib\\site-packages (from roboflow) (1.0.0)\n",
      "Requirement already satisfied: filetype in c:\\users\\admin\\miniconda3\\lib\\site-packages (from roboflow) (1.2.0)\n",
      "Requirement already satisfied: colorama in c:\\users\\admin\\miniconda3\\lib\\site-packages (from tqdm>=4.41.0->roboflow) (0.4.6)\n",
      "Requirement already satisfied: contourpy>=1.0.1 in c:\\users\\admin\\miniconda3\\lib\\site-packages (from matplotlib->roboflow) (1.3.2)\n",
      "Requirement already satisfied: fonttools>=4.22.0 in c:\\users\\admin\\miniconda3\\lib\\site-packages (from matplotlib->roboflow) (4.58.5)\n",
      "Requirement already satisfied: packaging>=20.0 in c:\\users\\admin\\miniconda3\\lib\\site-packages (from matplotlib->roboflow) (24.2)\n",
      "Requirement already satisfied: pyparsing>=2.3.1 in c:\\users\\admin\\miniconda3\\lib\\site-packages (from matplotlib->roboflow) (3.2.3)\n",
      "Requirement already satisfied: charset-normalizer<4,>=2 in c:\\users\\admin\\miniconda3\\lib\\site-packages (from requests->roboflow) (3.3.2)\n",
      "loading Roboflow workspace...\n",
      "loading Roboflow project...\n",
      "Generating version still in progress. Progress: 100.05%\n"
     ]
    },
    {
     "name": "stderr",
     "output_type": "stream",
     "text": [
      "Downloading Dataset Version Zip in acne-3 to yolov8-obb:: 100%|██████████| 1158012/1158012 [01:00<00:00, 19171.22it/s]"
     ]
    },
    {
     "name": "stdout",
     "output_type": "stream",
     "text": [
      "\n"
     ]
    },
    {
     "name": "stderr",
     "output_type": "stream",
     "text": [
      "\n",
      "Extracting Dataset Version Zip to acne-3 in yolov8-obb:: 100%|██████████| 45632/45632 [00:28<00:00, 1599.93it/s]\n"
     ]
    }
   ],
   "source": [
    "!pip install roboflow\n",
    "\n",
    "from roboflow import Roboflow\n",
    "rf = Roboflow(api_key=\"HbuRQXRnHhLorOJoVOev\")\n",
    "project = rf.workspace(\"project2-43eks\").project(\"acne-6rzah-jk3iq\")\n",
    "version = project.version(3)\n",
    "dataset = version.download(\"yolov8-obb\")\n",
    "                "
   ]
  },
  {
   "cell_type": "code",
   "execution_count": null,
   "id": "fa768504",
   "metadata": {},
   "outputs": [],
   "source": []
  }
 ],
 "metadata": {
  "kernelspec": {
   "display_name": "heeth2025",
   "language": "python",
   "name": "python3"
  },
  "language_info": {
   "codemirror_mode": {
    "name": "ipython",
    "version": 3
   },
   "file_extension": ".py",
   "mimetype": "text/x-python",
   "name": "python",
   "nbconvert_exporter": "python",
   "pygments_lexer": "ipython3",
   "version": "3.12.11"
  }
 },
 "nbformat": 4,
 "nbformat_minor": 5
}
